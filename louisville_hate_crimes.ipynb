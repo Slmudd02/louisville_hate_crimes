{
 "cells": [
  {
   "cell_type": "code",
   "execution_count": 28,
   "id": "65c6584a",
   "metadata": {},
   "outputs": [
    {
     "name": "stdout",
     "output_type": "stream",
     "text": [
      "['ANTI-BLACK', 'HOMOSEXUAL', 'ANTI-WHITE', 'ANTI-MALE', '(GAY)', 'ANTI-JEWISH']\n",
      "[72, 29, 26, 22, 22, 14]\n"
     ]
    }
   ],
   "source": [
    "import csv\n",
    "import numpy as np\n",
    "from collections import Counter\n",
    "from matplotlib import pyplot as plt\n",
    "\n",
    "\n",
    "# Opened up my csv file and changed the items into a dictionary\n",
    "with open(\"crimes.csv\") as csv_file:\n",
    "    csv_reader = csv.DictReader(csv_file)\n",
    "    \n",
    "    \n",
    "    \n",
    "#Used a counter to count the the number of times each demographic showed up in my csv file   \n",
    "    bias_group_counter = Counter()\n",
    "    \n",
    "    \n",
    "    \n",
    "#Used a for loop to update and split the strings into lists    \n",
    "    for row in csv_reader:\n",
    "        bias_group_counter.update((row['BIAS_MOTIVATION_GROUP'].split()))\n",
    "        \n",
    "hate_victims = []\n",
    "number_of_crimes= []\n",
    "        \n",
    "#Used the most common method to return the top 6 victim groups     \n",
    "for item in bias_group_counter.most_common(6):\n",
    "    hate_victims.append(item[0])\n",
    "    number_of_crimes.append(item[1])\n",
    "    \n",
    "print(hate_victims)\n",
    "print(number_of_crimes)\n",
    "    \n",
    "\n"
   ]
  },
  {
   "cell_type": "code",
   "execution_count": 6,
   "id": "294f3532",
   "metadata": {},
   "outputs": [
    {
     "ename": "SyntaxError",
     "evalue": "EOL while scanning string literal (Temp/ipykernel_9172/664970834.py, line 14)",
     "output_type": "error",
     "traceback": [
      "\u001b[1;36m  File \u001b[1;32m\"C:\\Users\\shala\\AppData\\Local\\Temp/ipykernel_9172/664970834.py\"\u001b[1;36m, line \u001b[1;32m14\u001b[0m\n\u001b[1;33m    plt.title(\"Most Victims of Hate Crimes in Louisville Kentucky\u001b[0m\n\u001b[1;37m                                                                 ^\u001b[0m\n\u001b[1;31mSyntaxError\u001b[0m\u001b[1;31m:\u001b[0m EOL while scanning string literal\n"
     ]
    }
   ],
   "source": [
    "from matplotlib import pyplot as plt\n",
    "\n",
    "plt.style.use(\"fivethirtyeight\")\n",
    "\n",
    "# Created lists from the above data I obtained \n",
    "\n",
    "slices = [72, 51, 26, 22, 14]\n",
    "labels = [\"Anti Black\", \"Anti Homosexual\", \"Anti White\", \"Anti Male\", \"Anti Jewish\"]\n",
    "colors = [\"blue\", \"red\", \"yellow\", \"green\", \"purple\"]\n",
    "\n",
    "# Used plt.pie to label and style my pie chart\n",
    "plt.pie(slices, labels=labels, colors=colors, autopct=\"%1.1f%%\", wedgeprops={\"edgecolor\": \"black\"})\n",
    "\n",
    "plt.title(\"Most Victims of Hate Crimes in Louisville Kentucky 201\")\n",
    "plt.tight_layout()\n",
    "plt.show()\n"
   ]
  }
 ],
 "metadata": {
  "kernelspec": {
   "display_name": "Python 3 (ipykernel)",
   "language": "python",
   "name": "python3"
  },
  "language_info": {
   "codemirror_mode": {
    "name": "ipython",
    "version": 3
   },
   "file_extension": ".py",
   "mimetype": "text/x-python",
   "name": "python",
   "nbconvert_exporter": "python",
   "pygments_lexer": "ipython3",
   "version": "3.9.7"
  }
 },
 "nbformat": 4,
 "nbformat_minor": 5
}

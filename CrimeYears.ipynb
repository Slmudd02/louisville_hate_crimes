{
 "cells": [
  {
   "cell_type": "code",
   "execution_count": 110,
   "id": "5dbfc0e7",
   "metadata": {},
   "outputs": [],
   "source": [
    "import pandas as pd"
   ]
  },
  {
   "cell_type": "code",
   "execution_count": 111,
   "id": "63c4be49",
   "metadata": {},
   "outputs": [],
   "source": [
    "df = pd.read_csv(\"crimes.csv\")"
   ]
  },
  {
   "cell_type": "code",
   "execution_count": 112,
   "id": "296fa06e",
   "metadata": {},
   "outputs": [],
   "source": [
    "# used to_datetime method to format my date column \n",
    "\n",
    "df[\"DATE_REPORTED\"] = pd.to_datetime(df[\"DATE_REPORTED\"])"
   ]
  },
  {
   "cell_type": "code",
   "execution_count": 113,
   "id": "dca059d7",
   "metadata": {},
   "outputs": [],
   "source": [
    "# set my index to use date  \n",
    "\n",
    "df.set_index(\"DATE_REPORTED\", inplace=True)"
   ]
  },
  {
   "cell_type": "code",
   "execution_count": 114,
   "id": "584a79aa",
   "metadata": {},
   "outputs": [
    {
     "data": {
      "text/plain": [
       "DATE_REPORTED\n",
       "2012-02-04 11:00:00    ANTI-BLACK                                   \n",
       "2012-02-09 08:06:00    ANTI-MALE HOMOSEXUAL (GAY)                   \n",
       "2012-05-19 06:12:00    ANTI-BLACK                                   \n",
       "2012-05-23 09:19:00    ANTI-MALE HOMOSEXUAL (GAY)                   \n",
       "2012-05-31 12:33:00    ANTI-AMERICAN INDIAN/ALASKAN NATIVE          \n",
       "2012-07-04 00:15:00    ANTI-BLACK                                   \n",
       "2012-07-20 12:05:00    ANTI-BLACK                                   \n",
       "2012-07-27 07:09:00    ANTI-FEMALE HOMOSEXUAL (LESBIAN)             \n",
       "2012-08-05 17:48:00    ANTI-MALE HOMOSEXUAL (GAY)                   \n",
       "2012-09-20 13:01:00    ANTI-WHITE                                   \n",
       "2012-11-25 01:40:00    ANTI-JEWISH                                  \n",
       "2012-12-01 09:19:00    ANTI-WHITE                                   \n",
       "2012-12-12 18:00:00    ANTI-BLACK                                   \n",
       "Name: BIAS_MOTIVATION_GROUP, dtype: object"
      ]
     },
     "execution_count": 114,
     "metadata": {},
     "output_type": "execute_result"
    }
   ],
   "source": [
    "# sliced the data to show all of the hate crimes for each year from 2012 - 2022\n",
    "\n",
    "df.loc['2012'][\"BIAS_MOTIVATION_GROUP\"]\n",
    "\n"
   ]
  },
  {
   "cell_type": "code",
   "execution_count": 104,
   "id": "c7cb44ef",
   "metadata": {},
   "outputs": [
    {
     "data": {
      "text/plain": [
       "DATE_REPORTED\n",
       "2013-01-11 21:06:00    ANTI-WHITE                                   \n",
       "2013-01-16 18:45:00    ANTI-MALE HOMOSEXUAL (GAY)                   \n",
       "2013-02-18 17:45:00    ANTI-OTHER RACE/ETHNICITY/ANCESTRY           \n",
       "2013-03-23 23:45:00    ANTI-MALE HOMOSEXUAL (GAY)                   \n",
       "2013-03-27 16:57:00    ANTI-BLACK                                   \n",
       "2013-04-12 18:11:00    ANTI-WHITE                                   \n",
       "2013-05-03 16:40:00    ANTI-OTHER RACE/ETHNICITY/ANCESTRY           \n",
       "2013-06-23 20:47:00    ANTI-MALE HOMOSEXUAL (GAY)                   \n",
       "2013-06-24 07:47:00    ANTI-BLACK                                   \n",
       "2013-07-06 16:39:00    ANTI-FEMALE HOMOSEXUAL (LESBIAN)             \n",
       "2013-07-06 16:39:00    ANTI-FEMALE HOMOSEXUAL (LESBIAN)             \n",
       "2013-07-06 16:39:00    ANTI-FEMALE HOMOSEXUAL (LESBIAN)             \n",
       "2013-07-13 10:45:00    ANTI-WHITE                                   \n",
       "2013-07-23 16:41:00    ANTI-BLACK                                   \n",
       "2013-08-20 04:27:00    ANTI-ARAB                                    \n",
       "2013-10-14 00:26:00    ANTI-MULTI-RACIAL GROUP                      \n",
       "2013-12-19 19:45:00    ANTI-WHITE                                   \n",
       "Name: BIAS_MOTIVATION_GROUP, dtype: object"
      ]
     },
     "execution_count": 104,
     "metadata": {},
     "output_type": "execute_result"
    }
   ],
   "source": [
    "df.loc['2013']['BIAS_MOTIVATION_GROUP']"
   ]
  },
  {
   "cell_type": "code",
   "execution_count": 60,
   "id": "2c0e54bd",
   "metadata": {},
   "outputs": [
    {
     "data": {
      "text/plain": [
       "DATE_REPORTED\n",
       "2014-01-03 16:55:00    ANTI-HISPANIC                                \n",
       "2014-02-17 10:56:00    ANTI-ARAB                                    \n",
       "2014-02-28 11:39:00    ANTI-WHITE                                   \n",
       "2014-03-26 10:49:00    ANTI-PROTESTANT                              \n",
       "2014-12-10 09:03:00    ANTI-BLACK                                   \n",
       "2014-11-15 22:41:00    ANTI-MENTAL DISABILITY                       \n",
       "2014-11-05 16:46:00    ANTI-GLBT (AS A GROUP)                       \n",
       "2014-10-22 19:54:00    ANTI-WHITE                                   \n",
       "2014-08-28 12:22:00    ANTI-FEMALE HOMOSEXUAL (LESBIAN)             \n",
       "2014-08-07 12:19:00    ANTI-TRANSGENDER                             \n",
       "2014-07-05 14:39:00    ANTI-BLACK                                   \n",
       "2014-07-04 16:22:00    ANTI-BLACK                                   \n",
       "2014-04-04 21:18:00    ANTI-WHITE                                   \n",
       "Name: BIAS_MOTIVATION_GROUP, dtype: object"
      ]
     },
     "execution_count": 60,
     "metadata": {},
     "output_type": "execute_result"
    }
   ],
   "source": [
    "df.loc['2014']['BIAS_MOTIVATION_GROUP']"
   ]
  },
  {
   "cell_type": "code",
   "execution_count": 61,
   "id": "923d0de2",
   "metadata": {},
   "outputs": [
    {
     "data": {
      "text/plain": [
       "DATE_REPORTED\n",
       "2015-12-23 15:10:00    ANTI-ISLAMIC (MUSLIM)                        \n",
       "2015-11-16 07:48:00    ANTI-WHITE                                   \n",
       "2015-08-10 09:55:00    ANTI-BLACK                                   \n",
       "2015-07-16 09:21:00    ANTI-MALE HOMOSEXUAL (GAY)                   \n",
       "2015-07-02 15:00:00    ANTI-WHITE                                   \n",
       "2015-03-26 11:04:00    ANTI-BLACK                                   \n",
       "2015-03-09 22:00:00    ANTI-BLACK                                   \n",
       "2015-01-25 11:43:00    ANTI-WHITE                                   \n",
       "Name: BIAS_MOTIVATION_GROUP, dtype: object"
      ]
     },
     "execution_count": 61,
     "metadata": {},
     "output_type": "execute_result"
    }
   ],
   "source": [
    "df.loc['2015']['BIAS_MOTIVATION_GROUP']"
   ]
  },
  {
   "cell_type": "code",
   "execution_count": 62,
   "id": "3c3a6ec5",
   "metadata": {},
   "outputs": [
    {
     "data": {
      "text/plain": [
       "DATE_REPORTED\n",
       "2016-03-02 19:11:00    ANTI-TRANSGENDER                             \n",
       "2016-03-02 12:10:00    ANTI-BLACK                                   \n",
       "2016-01-08 13:23:00    ANTI-ISLAMIC (MUSLIM)                        \n",
       "2016-12-08 10:05:00    ANTI-BLACK                                   \n",
       "2016-08-01 19:36:00    ANTI-BLACK                                   \n",
       "2016-07-21 21:50:00    ANTI-TRANSGENDER                             \n",
       "2016-06-16 19:18:00    ANTI-ISLAMIC (MUSLIM)                        \n",
       "2016-04-27 19:00:00    ANTI-TRANSGENDER                             \n",
       "2016-04-22 13:35:00    ANTI-JEWISH                                  \n",
       "2016-09-19 11:21:00    ANTI-TRANSGENDER                             \n",
       "2016-09-21 03:42:00    ANTI-BLACK                                   \n",
       "2016-10-18 11:14:00    ANTI-ISLAMIC (MUSLIM)                        \n",
       "2016-11-11 06:20:00    ANTI-BLACK                                   \n",
       "2016-12-08 10:05:00    ANTI-BLACK                                   \n",
       "2016-12-22 19:42:00    ANTI-MALE HOMOSEXUAL (GAY)                   \n",
       "Name: BIAS_MOTIVATION_GROUP, dtype: object"
      ]
     },
     "execution_count": 62,
     "metadata": {},
     "output_type": "execute_result"
    }
   ],
   "source": [
    "df.loc['2016']['BIAS_MOTIVATION_GROUP']"
   ]
  },
  {
   "cell_type": "code",
   "execution_count": 63,
   "id": "ef73ef0b",
   "metadata": {},
   "outputs": [
    {
     "data": {
      "text/plain": [
       "DATE_REPORTED\n",
       "2017-01-27 16:28:00    ANTI-JEWISH                                  \n",
       "2017-01-29 01:22:00    ANTI-BLACK                                   \n",
       "2017-03-08 11:43:00    ANTI-JEWISH                                  \n",
       "2017-03-09 15:26:00    ANTI-GENDER NON-CONFORMING                   \n",
       "2017-03-13 17:46:00    ANTI-BLACK                                   \n",
       "2017-03-17 14:44:00    ANTI-WHITE                                   \n",
       "2017-04-01 10:56:00    ANTI-OTHER RACE/ETHNICITY/ANCESTRY           \n",
       "2017-08-01 21:01:00    ANTI-OTHER CHRISTIAN                         \n",
       "2017-08-18 04:55:00    ANTI-BLACK                                   \n",
       "2017-08-25 11:29:00    ANTI-OTHER RACE/ETHNICITY/ANCESTRY           \n",
       "2017-08-31 21:19:00    ANTI-WHITE                                   \n",
       "2017-09-03 00:23:00    ANTI-OTHER RACE/ETHNICITY/ANCESTRY           \n",
       "2017-09-28 21:48:00    ANTI-BLACK                                   \n",
       "2017-11-06 21:42:00    ANTI-BLACK                                   \n",
       "Name: BIAS_MOTIVATION_GROUP, dtype: object"
      ]
     },
     "execution_count": 63,
     "metadata": {},
     "output_type": "execute_result"
    }
   ],
   "source": [
    "df.loc['2017']['BIAS_MOTIVATION_GROUP']"
   ]
  },
  {
   "cell_type": "code",
   "execution_count": 64,
   "id": "1bd54577",
   "metadata": {},
   "outputs": [
    {
     "data": {
      "text/plain": [
       "DATE_REPORTED\n",
       "2018-10-27 09:42:00    ANTI-MALE HOMOSEXUAL (GAY)                   \n",
       "2018-12-19 11:09:00    ANTI-MALE HOMOSEXUAL (GAY)                   \n",
       "2018-01-02 15:32:00    ANTI-BLACK                                   \n",
       "2018-01-31 18:27:00    ANTI-MULTI-RACIAL GROUP                      \n",
       "2018-02-03 21:13:00    ANTI-TRANSGENDER                             \n",
       "2018-03-18 17:02:00    ANTI-BLACK                                   \n",
       "2018-04-22 20:09:00    ANTI-BLACK                                   \n",
       "2018-07-27 18:25:00    ANTI-MALE HOMOSEXUAL (GAY)                   \n",
       "2018-08-27 18:12:00    ANTI-JEWISH                                  \n",
       "2018-10-27 09:42:00    ANTI-MALE HOMOSEXUAL (GAY)                   \n",
       "2018-11-23 10:19:00    ANTI-TRANSGENDER                             \n",
       "2018-12-14 17:56:00    ANTI-OTHER RACE/ETHNICITY/ANCESTRY           \n",
       "2018-12-16 20:31:00    ANTI-MALE HOMOSEXUAL (GAY)                   \n",
       "2018-12-19 11:09:00    ANTI-MALE HOMOSEXUAL (GAY)                   \n",
       "2018-12-25 23:13:00    ANTI-ARAB                                    \n",
       "2018-12-25 23:13:00    ANTI-OTHER RACE/ETHNICITY/ANCESTRY           \n",
       "2018-12-26 19:20:00    ANTI-BLACK                                   \n",
       "2018-12-28 23:27:00    ANTI-BLACK                                   \n",
       "Name: BIAS_MOTIVATION_GROUP, dtype: object"
      ]
     },
     "execution_count": 64,
     "metadata": {},
     "output_type": "execute_result"
    }
   ],
   "source": [
    "df.loc['2018']['BIAS_MOTIVATION_GROUP']"
   ]
  },
  {
   "cell_type": "code",
   "execution_count": 65,
   "id": "58b075ba",
   "metadata": {},
   "outputs": [
    {
     "data": {
      "text/plain": [
       "DATE_REPORTED\n",
       "2019-10-21 10:12:00    ANTI-OTHER RACE/ETHNICITY/ANCESTRY           \n",
       "2019-01-01 11:43:00    ANTI-WHITE                                   \n",
       "2019-01-22 08:01:00    ANTI-MENTAL DISABILITY                       \n",
       "2019-01-29 15:31:00    ANTI-HINDU                                   \n",
       "2019-04-12 21:47:00    ANTI-BLACK                                   \n",
       "2019-05-01 13:35:00    ANTI-MALE HOMOSEXUAL (GAY)                   \n",
       "2019-06-02 10:55:00    ANTI-ISLAMIC (MUSLIM)                        \n",
       "2019-07-10 10:38:00    ANTI-GLBT (AS A GROUP)                       \n",
       "2019-09-30 06:38:00    ANTI-TRANSGENDER                             \n",
       "2019-11-04 10:00:00    ANTI-OTHER CHRISTIAN                         \n",
       "2019-12-20 13:41:00    ANTI-HISPANIC                                \n",
       "2019-12-26 09:43:00    ANTI-BLACK                                   \n",
       "Name: BIAS_MOTIVATION_GROUP, dtype: object"
      ]
     },
     "execution_count": 65,
     "metadata": {},
     "output_type": "execute_result"
    }
   ],
   "source": [
    "df.loc['2019']['BIAS_MOTIVATION_GROUP']"
   ]
  },
  {
   "cell_type": "code",
   "execution_count": 66,
   "id": "1944c5b2",
   "metadata": {},
   "outputs": [
    {
     "data": {
      "text/plain": [
       "DATE_REPORTED\n",
       "2020-06-06 18:25:00    ANTI-MULTI-RACIAL GROUP                      \n",
       "2020-06-06 18:25:00    ANTI-MULTI-RACIAL GROUP                      \n",
       "2020-06-07 11:00:00    ANTI-MULTI-RACIAL GROUP                      \n",
       "2020-06-16 10:24:00    ANTI-BLACK                                   \n",
       "2020-06-16 10:24:00    ANTI-BLACK                                   \n",
       "2020-06-27 11:43:00    ANTI-MULTI-RACIAL GROUP                      \n",
       "2020-08-05 12:18:00    ANTI-OTHER RACE/ETHNICITY/ANCESTRY           \n",
       "2020-06-06 18:25:00    ANTI-MULTI-RACIAL GROUP                      \n",
       "2020-09-18 18:50:00    ANTI-WHITE                                   \n",
       "2020-09-19 19:10:00    ANTI-JEWISH                                  \n",
       "2020-09-19 19:10:00    ANTI-JEWISH                                  \n",
       "2020-01-16 16:20:00    ANTI-MULTI-RACIAL GROUP                      \n",
       "2020-09-23 12:00:00    ANTI-MALE HOMOSEXUAL (GAY)                   \n",
       "2020-01-31 18:37:00    ANTI-MALE HOMOSEXUAL (GAY)                   \n",
       "2020-02-12 08:30:00    ANTI-JEWISH                                  \n",
       "2020-02-12 08:30:00    ANTI-JEWISH                                  \n",
       "2020-05-06 16:47:00    ANTI-FEMALE HOMOSEXUAL (LESBIAN)             \n",
       "2020-05-31 13:28:00    ANTI-BLACK                                   \n",
       "2020-06-02 08:37:00    ANTI-BLACK                                   \n",
       "2020-06-03 10:58:00    ANTI-BLACK                                   \n",
       "2020-10-22 20:11:00    ANTI-BLACK                                   \n",
       "2020-06-07 11:00:00    ANTI-MULTI-RACIAL GROUP                      \n",
       "2020-11-02 11:27:00    ANTI-WHITE                                   \n",
       "2020-11-02 11:27:00    ANTI-WHITE                                   \n",
       "2020-06-10 16:57:00    ANTI-WHITE                                   \n",
       "2020-06-16 10:24:00    ANTI-BLACK                                   \n",
       "2020-06-17 01:00:00    ANTI-BLACK                                   \n",
       "2020-06-21 04:26:00    ANTI-BLACK                                   \n",
       "2020-06-24 23:20:00    ANTI-BLACK                                   \n",
       "2020-06-27 11:43:00    ANTI-MULTI-RACIAL GROUP                      \n",
       "2020-07-03 07:57:00    ANTI-BLACK                                   \n",
       "2020-07-16 13:30:00    ANTI-BLACK                                   \n",
       "2020-08-02 01:30:00    ANTI-BLACK                                   \n",
       "2020-08-05 12:18:00    ANTI-OTHER RACE/ETHNICITY/ANCESTRY           \n",
       "2020-06-06 18:34:00    ANTI-JEWISH                                  \n",
       "2020-08-30 07:45:00    ANTI-BLACK                                   \n",
       "2020-09-18 18:50:00    ANTI-WHITE                                   \n",
       "2020-09-19 19:10:00    ANTI-JEWISH                                  \n",
       "2020-09-23 12:00:00    ANTI-MALE HOMOSEXUAL (GAY)                   \n",
       "2020-09-30 15:14:00    ANTI-BLACK                                   \n",
       "2020-10-06 17:34:00    ANTI-BLACK                                   \n",
       "2020-10-08 13:41:00    ANTI-BLACK                                   \n",
       "2020-10-11 14:00:00    ANTI-HISPANIC                                \n",
       "2020-10-21 01:40:00    ANTI-MULTI-RACIAL GROUP                      \n",
       "2020-10-22 12:27:00    ANTI-BLACK                                   \n",
       "2020-10-22 20:11:00    ANTI-BLACK                                   \n",
       "2020-11-02 11:27:00    ANTI-WHITE                                   \n",
       "2020-08-17 08:38:00    ANTI-BLACK                                   \n",
       "Name: BIAS_MOTIVATION_GROUP, dtype: object"
      ]
     },
     "execution_count": 66,
     "metadata": {},
     "output_type": "execute_result"
    }
   ],
   "source": [
    "df.loc['2020']['BIAS_MOTIVATION_GROUP']"
   ]
  },
  {
   "cell_type": "code",
   "execution_count": 67,
   "id": "484ecb52",
   "metadata": {},
   "outputs": [
    {
     "data": {
      "text/plain": [
       "DATE_REPORTED\n",
       "2021-02-26 17:46:00    ANTI-WHITE                                   \n",
       "2021-01-14 09:00:00    ANTI-MALE HOMOSEXUAL (GAY)                   \n",
       "2021-01-19 13:59:00    ANTI-GENDER NON-CONFORMING                   \n",
       "2021-01-27 13:17:00    ANTI-BLACK                                   \n",
       "2021-02-20 20:19:00    ANTI-BLACK                                   \n",
       "2021-02-26 17:46:00    ANTI-WHITE                                   \n",
       "2021-03-04 11:47:00    ANTI-BLACK                                   \n",
       "2021-10-20 22:01:00    ANTI-BLACK                                   \n",
       "2021-10-20 22:01:00    ANTI-BLACK                                   \n",
       "2021-03-05 11:04:00    ANTI-BLACK                                   \n",
       "2021-03-17 09:15:00    ANTI-WHITE                                   \n",
       "2021-03-24 18:30:00    ANTI-WHITE                                   \n",
       "2021-04-07 19:30:00    ANTI-ASIAN                                   \n",
       "2021-04-11 15:57:00    ANTI-TRANSGENDER                             \n",
       "2021-05-01 09:19:00    ANTI-FEMALE HOMOSEXUAL (LESBIAN)             \n",
       "2021-05-07 14:17:00    ANTI-BLACK                                   \n",
       "2021-05-10 12:35:00    ANTI-MALE HOMOSEXUAL (GAY)                   \n",
       "2021-05-10 23:28:00    ANTI-JEWISH                                  \n",
       "2021-05-30 22:38:00    ANTI-BLACK                                   \n",
       "2021-05-30 22:38:00    ANTI-BLACK                                   \n",
       "2021-06-12 16:01:00    ANTI-GLBT (AS A GROUP)                       \n",
       "2021-06-16 08:26:00    ANTI-CATHOLIC                                \n",
       "2021-07-05 00:55:00    ANTI-BLACK                                   \n",
       "2021-07-09 22:05:00    ANTI-BLACK                                   \n",
       "2021-08-24 20:57:00    ANTI-BLACK                                   \n",
       "2021-08-30 16:45:00    ANTI-MULTI-RACIAL GROUP                      \n",
       "2021-09-23 18:23:00    ANTI-BLACK                                   \n",
       "2021-09-28 15:14:00    ANTI-ISLAMIC (MUSLIM)                        \n",
       "2021-09-30 10:38:00    ANTI-GLBT (AS A GROUP)                       \n",
       "2021-10-10 11:54:00    ANTI-GLBT (AS A GROUP)                       \n",
       "2021-10-20 22:01:00    ANTI-BLACK                                   \n",
       "2021-11-14 20:16:00    ANTI-HISPANIC                                \n",
       "2021-11-28 08:32:00    ANTI-BLACK                                   \n",
       "2021-12-31 09:45:00    ANTI-ARAB                                    \n",
       "2021-04-24 12:21:00    ANTI-ASIAN                                   \n",
       "Name: BIAS_MOTIVATION_GROUP, dtype: object"
      ]
     },
     "execution_count": 67,
     "metadata": {},
     "output_type": "execute_result"
    }
   ],
   "source": [
    "df.loc['2021']['BIAS_MOTIVATION_GROUP']"
   ]
  },
  {
   "cell_type": "code",
   "execution_count": 68,
   "id": "bfe7516c",
   "metadata": {},
   "outputs": [
    {
     "data": {
      "text/plain": [
       "DATE_REPORTED\n",
       "2022-05-05 04:42:00    ANTI-BLACK                                   \n",
       "2022-05-21 20:13:00    ANTI-HISPANIC                                \n",
       "2022-03-10 14:59:00    ANTI-BLACK                                   \n",
       "2022-03-20 11:58:00    ANTI-BLACK                                   \n",
       "2022-03-20 23:15:00    ANTI-MALE HOMOSEXUAL (GAY)                   \n",
       "2022-04-25 15:40:00    ANTI-WHITE                                   \n",
       "2022-05-05 04:42:00    ANTI-BLACK                                   \n",
       "2022-05-11 20:36:00    ANTI-MULTI-RACIAL GROUP                      \n",
       "2022-05-21 20:13:00    ANTI-HISPANIC                                \n",
       "2022-05-30 14:13:00    ANTI-MALE HOMOSEXUAL (GAY)                   \n",
       "2022-06-03 01:28:00    ANTI-JEWISH                                  \n",
       "2022-06-03 15:30:00    ANTI-BLACK                                   \n",
       "2022-06-03 19:55:00    ANTI-ARAB                                    \n",
       "2022-03-23 16:26:00    ANTI-JEWISH                                  \n",
       "Name: BIAS_MOTIVATION_GROUP, dtype: object"
      ]
     },
     "execution_count": 68,
     "metadata": {},
     "output_type": "execute_result"
    }
   ],
   "source": [
    "df.loc['2022']['BIAS_MOTIVATION_GROUP']"
   ]
  }
 ],
 "metadata": {
  "kernelspec": {
   "display_name": "Python 3.10.5 64-bit (windows store)",
   "language": "python",
   "name": "python3"
  },
  "language_info": {
   "codemirror_mode": {
    "name": "ipython",
    "version": 3
   },
   "file_extension": ".py",
   "mimetype": "text/x-python",
   "name": "python",
   "nbconvert_exporter": "python",
   "pygments_lexer": "ipython3",
   "version": "3.10.5"
  },
  "vscode": {
   "interpreter": {
    "hash": "9395492f99cc3d3d9f9c32656896b03200aa87017b62a5b1c67b0396a18b8a00"
   }
  }
 },
 "nbformat": 4,
 "nbformat_minor": 5
}

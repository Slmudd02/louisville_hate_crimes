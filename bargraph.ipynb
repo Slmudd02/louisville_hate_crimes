{
 "cells": [
  {
   "cell_type": "code",
   "execution_count": null,
   "id": "94503d54",
   "metadata": {},
   "outputs": [],
   "source": [
    "\n",
    "from matplotlib import pyplot as plt\n"
   ]
  },
  {
   "cell_type": "markdown",
   "id": "f4f9a034",
   "metadata": {},
   "source": [
    "\"\"\" I used the results I got from using pandas on the csv to come up with coordinates for my bar graph,\n",
    "     and as you can see Anti Black hate crime rates sky rocketed in 2020.\n",
    "    Breonna Taylor was murdered on March 13th 2020.\"\"\"\n"
   ]
  },
  {
   "cell_type": "code",
   "execution_count": null,
   "id": "2594fef0",
   "metadata": {},
   "outputs": [],
   "source": [
    "# Used matplotlib to create a bar graph from the data found in CSV \n",
    "\n",
    "plt.style.use(\"fivethirtyeight\")\n",
    "\n",
    "years_x = [2012, 2013, 2014, 2015, 2016, 2017, 2018, 2019, 2020, 2021, 2022]\n",
    "\n",
    "\n",
    "number_of_crimes_y = [5, 3, 3, 3, 6, 5, 5, 2, 20, 15, 5]\n",
    "\n",
    "plt.barh(years_x, number_of_crimes_y, color=\"#D6809C\", label=\"Number of Crimes\")\n",
    "\n",
    "plt.legend()\n",
    "plt.title(\"Amount of Anti Black Hate Crimes By Year\")\n",
    "plt.tight_layout()\n",
    "plt.show()\n"
   ]
  }
 ],
 "metadata": {
  "kernelspec": {
   "display_name": "Python 3.10.5 64-bit (windows store)",
   "language": "python",
   "name": "python3"
  },
  "language_info": {
   "codemirror_mode": {
    "name": "ipython",
    "version": 3
   },
   "file_extension": ".py",
   "mimetype": "text/x-python",
   "name": "python",
   "nbconvert_exporter": "python",
   "pygments_lexer": "ipython3",
   "version": "3.10.5"
  },
  "vscode": {
   "interpreter": {
    "hash": "9395492f99cc3d3d9f9c32656896b03200aa87017b62a5b1c67b0396a18b8a00"
   }
  }
 },
 "nbformat": 4,
 "nbformat_minor": 5
}

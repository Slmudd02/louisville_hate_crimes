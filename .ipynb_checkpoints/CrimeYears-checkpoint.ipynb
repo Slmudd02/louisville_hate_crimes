{
 "cells": [
  {
   "cell_type": "code",
   "execution_count": null,
   "id": "5dbfc0e7",
   "metadata": {},
   "outputs": [],
   "source": [
    "import pandas as pd"
   ]
  },
  {
   "cell_type": "code",
   "execution_count": null,
   "id": "63c4be49",
   "metadata": {},
   "outputs": [],
   "source": [
    "df = pd.read_csv(\"crimes.csv\")"
   ]
  },
  {
   "cell_type": "code",
   "execution_count": null,
   "id": "296fa06e",
   "metadata": {},
   "outputs": [],
   "source": [
    "# used to_datetime method to format my date column \n",
    "\n",
    "df[\"DATE_REPORTED\"] = pd.to_datetime(df[\"DATE_REPORTED\"])"
   ]
  },
  {
   "cell_type": "code",
   "execution_count": null,
   "id": "dca059d7",
   "metadata": {},
   "outputs": [],
   "source": [
    "# set my index to use date  \n",
    "\n",
    "df.set_index(\"DATE_REPORTED\", inplace=True)"
   ]
  },
  {
   "cell_type": "code",
   "execution_count": null,
   "id": "584a79aa",
   "metadata": {},
   "outputs": [],
   "source": [
    "# sliced the data to show all of the hate crimes for each year from 2012 - 2022\n",
    "\n",
    "\n",
    "df.loc['2012'][\"BIAS_MOTIVATION_GROUP\"]\n",
    "\n"
   ]
  },
  {
   "cell_type": "code",
   "execution_count": null,
   "id": "c7cb44ef",
   "metadata": {},
   "outputs": [],
   "source": [
    "df.loc['2013']['BIAS_MOTIVATION_GROUP']"
   ]
  },
  {
   "cell_type": "code",
   "execution_count": null,
   "id": "2c0e54bd",
   "metadata": {},
   "outputs": [],
   "source": [
    "df.loc['2014']['BIAS_MOTIVATION_GROUP']"
   ]
  },
  {
   "cell_type": "code",
   "execution_count": null,
   "id": "923d0de2",
   "metadata": {},
   "outputs": [],
   "source": [
    "df.loc['2015']['BIAS_MOTIVATION_GROUP']"
   ]
  },
  {
   "cell_type": "code",
   "execution_count": null,
   "id": "3c3a6ec5",
   "metadata": {},
   "outputs": [],
   "source": [
    "df.loc['2016']['BIAS_MOTIVATION_GROUP']"
   ]
  },
  {
   "cell_type": "code",
   "execution_count": null,
   "id": "ef73ef0b",
   "metadata": {},
   "outputs": [],
   "source": [
    "df.loc['2017']['BIAS_MOTIVATION_GROUP']"
   ]
  },
  {
   "cell_type": "code",
   "execution_count": null,
   "id": "1bd54577",
   "metadata": {},
   "outputs": [],
   "source": [
    "df.loc['2018']['BIAS_MOTIVATION_GROUP']"
   ]
  },
  {
   "cell_type": "code",
   "execution_count": null,
   "id": "58b075ba",
   "metadata": {},
   "outputs": [],
   "source": [
    "df.loc['2019']['BIAS_MOTIVATION_GROUP']"
   ]
  },
  {
   "cell_type": "code",
   "execution_count": null,
   "id": "1944c5b2",
   "metadata": {},
   "outputs": [],
   "source": [
    "df.loc['2020']['BIAS_MOTIVATION_GROUP']"
   ]
  },
  {
   "cell_type": "code",
   "execution_count": null,
   "id": "484ecb52",
   "metadata": {},
   "outputs": [],
   "source": [
    "df.loc['2021']['BIAS_MOTIVATION_GROUP']"
   ]
  },
  {
   "cell_type": "code",
   "execution_count": null,
   "id": "bfe7516c",
   "metadata": {},
   "outputs": [],
   "source": [
    "df.loc['2022']['BIAS_MOTIVATION_GROUP']"
   ]
  }
 ],
 "metadata": {
  "kernelspec": {
   "display_name": "Python 3 (ipykernel)",
   "language": "python",
   "name": "python3"
  },
  "language_info": {
   "codemirror_mode": {
    "name": "ipython",
    "version": 3
   },
   "file_extension": ".py",
   "mimetype": "text/x-python",
   "name": "python",
   "nbconvert_exporter": "python",
   "pygments_lexer": "ipython3",
   "version": "3.9.7"
  },
  "vscode": {
   "interpreter": {
    "hash": "9395492f99cc3d3d9f9c32656896b03200aa87017b62a5b1c67b0396a18b8a00"
   }
  }
 },
 "nbformat": 4,
 "nbformat_minor": 5
}
